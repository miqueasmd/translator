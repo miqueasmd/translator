{
 "cells": [
  {
   "cell_type": "code",
   "execution_count": null,
   "metadata": {},
   "outputs": [],
   "source": [
    "#install the necessary library\n",
    "#%pip install deep-translator\n"
   ]
  },
  {
   "cell_type": "code",
   "execution_count": null,
   "metadata": {},
   "outputs": [],
   "source": [
    "#import the module from the library\n",
    "from deep_translator import GoogleTranslator\n",
    "\n",
    "#import the languages from the languages.py file\n",
    "from languages import LANGUAGES\n",
    "\n",
    "def display_languages():\n",
    "    \"\"\"Display available languages in a clean, columnar format\"\"\"\n",
    "    print(\"\\nAvailable languages:\")\n",
    "    \n",
    "    # Define group headers\n",
    "    groups = [\"European\", \"Asian\", \"Slavic\", \"Nordic/Baltic\", \"Other\"]\n",
    "    \n",
    "    # Print group headers\n",
    "    print(\"\".join(f\"{group:<30}\" for group in groups))\n",
    "    print(\"\".join(f\"{'_____________':<30}\" for group in groups))  # Underline the headers\n",
    "\n",
    "    lang_items = list(LANGUAGES.items())\n",
    "    \n",
    "    # Display languages in 5 columns\n",
    "    for i in range(10):  # 10 rows\n",
    "        row = []\n",
    "        for j in range(5):  # 5 columns\n",
    "            index = i + j * 10  # Calculate the correct index for each column\n",
    "            if index < len(lang_items):\n",
    "                row.append(f\"{lang_items[index][0]}. {lang_items[index][1]['name']}\")\n",
    "            else:\n",
    "                row.append(\"\")  # Empty space if there are no more languages\n",
    "        print(\"\".join(f\"{item:<30}\" for item in row))\n",
    "\n",
    "def get_target_language():\n",
    "    \"\"\"Get and validate user's language choice\"\"\"\n",
    "    while True:\n",
    "        display_languages()\n",
    "        choice = input(f\"\\nEnter your choice (1-{len(LANGUAGES)}): \")\n",
    "        if choice.isdigit():\n",
    "            choice = int(choice)\n",
    "            if choice in LANGUAGES:\n",
    "                return LANGUAGES[choice]['code']\n",
    "        print(f\"Invalid choice. Please enter a number between 1 and {len(LANGUAGES)}.\")\n",
    "\n",
    "def translate_text():\n",
    "    \"\"\"Main translation function\"\"\"\n",
    "    try:\n",
    "        text = input(\"Enter the text you want to translate: \").strip()\n",
    "        if not text:\n",
    "            print(\"Error: Please enter some text to translate.\")\n",
    "            return\n",
    "        target_language = get_target_language()\n",
    "        translator = GoogleTranslator(target=target_language)\n",
    "        translation = translator.translate(text)\n",
    "        print(\"\\nResults:\")\n",
    "        print(f\"Original: {text}\")\n",
    "        print(f\"Translated: {translation}\")\n",
    "        print(f\"Language: {next(lang['name'] for lang in LANGUAGES.values() if lang['code'] == target_language)}\")\n",
    "    except Exception as e:\n",
    "        print(f\"An error occurred: {str(e)}\")\n",
    "\n",
    "if __name__ == \"__main__\":\n",
    "    print(\"Welcome to the Language Translator!\")\n",
    "    translate_text()"
   ]
  }
 ],
 "metadata": {
  "kernelspec": {
   "display_name": "Python 3",
   "language": "python",
   "name": "python3"
  },
  "language_info": {
   "codemirror_mode": {
    "name": "ipython",
    "version": 3
   },
   "file_extension": ".py",
   "mimetype": "text/x-python",
   "name": "python",
   "nbconvert_exporter": "python",
   "pygments_lexer": "ipython3",
   "version": "3.12.6"
  }
 },
 "nbformat": 4,
 "nbformat_minor": 2
}
