{
 "cells": [
  {
   "cell_type": "code",
   "execution_count": 1,
   "metadata": {},
   "outputs": [],
   "source": [
    "#install the necessary library\n",
    "#%pip install deep-translator\n"
   ]
  },
  {
   "cell_type": "code",
   "execution_count": 3,
   "metadata": {},
   "outputs": [
    {
     "name": "stdout",
     "output_type": "stream",
     "text": [
      "Welcome to the Language Translator!\n",
      "\n",
      "Available languages:\n",
      "European                      Asian                         Slavic                        Nordic/Baltic                 Other                         \n",
      "_____________                 _____________                 _____________                 _____________                 _____________                 \n",
      "1. English                    11. Chinese                   21. Russian                   31. Swedish                   41. Arabic                    \n",
      "2. Spanish                    12. Japanese                  22. Ukrainian                 32. Danish                    42. Hebrew                    \n",
      "3. French                     13. Korean                    23. Czech                     33. Norwegian                 43. Persian                   \n",
      "4. German                     14. Vietnamese                24. Slovak                    34. Finnish                   44. Urdu                      \n",
      "5. Italian                    15. Thai                      25. Croatian                  35. Estonian                  45. Swahili                   \n",
      "6. Portuguese                 16. Hindi                     26. Serbian                   36. Latvian                   46. Afrikaans                 \n",
      "7. Dutch                      17. Bengali                   27. Bulgarian                 37. Lithuanian                47. Albanian                  \n",
      "8. Polish                     18. Turkish                   28. Slovenian                 38. Icelandic                 48. Armenian                  \n",
      "9. Romanian                   19. Indonesian                29. Macedonian                39. Irish                     49. Georgian                  \n",
      "10. Greek                     20. Malay                     30. Belarusian                40. Welsh                     50. Maltese                   \n",
      "\n",
      "Results:\n",
      "Original: hola como estas\n",
      "Translated: Hi, how are you\n",
      "Language: English\n"
     ]
    }
   ],
   "source": [
    "#import the module from the library\n",
    "from deep_translator import GoogleTranslator\n",
    "\n",
    "#import the languages from the languages.py file\n",
    "from languages import LANGUAGES\n",
    "\n",
    "def display_languages():\n",
    "    \"\"\"Display available languages in a clean, columnar format\"\"\"\n",
    "    print(\"\\nAvailable languages:\")\n",
    "    \n",
    "    # Define group headers\n",
    "    groups = [\"European\", \"Asian\", \"Slavic\", \"Nordic/Baltic\", \"Other\"]\n",
    "    \n",
    "    # Print group headers\n",
    "    print(\"\".join(f\"{group:<30}\" for group in groups))\n",
    "    print(\"\".join(f\"{'_____________':<30}\" for group in groups))  # Underline the headers\n",
    "\n",
    "    lang_items = list(LANGUAGES.items())\n",
    "    \n",
    "    # Display languages in 5 columns\n",
    "    for i in range(10):  # 10 rows\n",
    "        row = []\n",
    "        for j in range(5):  # 5 columns\n",
    "            index = i + j * 10  # Calculate the correct index for each column\n",
    "            if index < len(lang_items):\n",
    "                row.append(f\"{lang_items[index][0]}. {lang_items[index][1]['name']}\")\n",
    "            else:\n",
    "                row.append(\"\")  # Empty space if there are no more languages\n",
    "        print(\"\".join(f\"{item:<30}\" for item in row))\n",
    "\n",
    "def get_target_language():\n",
    "    \"\"\"Get and validate user's language choice\"\"\"\n",
    "    while True:\n",
    "        display_languages()\n",
    "        choice = input(f\"\\nEnter your choice (1-{len(LANGUAGES)}): \")\n",
    "        if choice.isdigit():\n",
    "            choice = int(choice)\n",
    "            if choice in LANGUAGES:\n",
    "                return LANGUAGES[choice]['code']\n",
    "        print(f\"Invalid choice. Please enter a number between 1 and {len(LANGUAGES)}.\")\n",
    "\n",
    "def translate_text():\n",
    "    \"\"\"Main translation function\"\"\"\n",
    "    try:\n",
    "        text = input(\"Enter the text you want to translate: \").strip()\n",
    "        if not text:\n",
    "            print(\"Error: Please enter some text to translate.\")\n",
    "            return\n",
    "        target_language = get_target_language()\n",
    "        translator = GoogleTranslator(target=target_language)\n",
    "        translation = translator.translate(text)\n",
    "        print(\"\\nResults:\")\n",
    "        print(f\"Original: {text}\")\n",
    "        print(f\"Translated: {translation}\")\n",
    "        print(f\"Language: {next(lang['name'] for lang in LANGUAGES.values() if lang['code'] == target_language)}\")\n",
    "    except Exception as e:\n",
    "        print(f\"An error occurred: {str(e)}\")\n",
    "\n",
    "if __name__ == \"__main__\":\n",
    "    print(\"Welcome to the Language Translator!\")\n",
    "    translate_text()"
   ]
  }
 ],
 "metadata": {
  "kernelspec": {
   "display_name": "base",
   "language": "python",
   "name": "python3"
  },
  "language_info": {
   "codemirror_mode": {
    "name": "ipython",
    "version": 3
   },
   "file_extension": ".py",
   "mimetype": "text/x-python",
   "name": "python",
   "nbconvert_exporter": "python",
   "pygments_lexer": "ipython3",
   "version": "3.11.7"
  }
 },
 "nbformat": 4,
 "nbformat_minor": 2
}
